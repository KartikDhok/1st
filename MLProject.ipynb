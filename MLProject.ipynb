{
  "nbformat": 4,
  "nbformat_minor": 0,
  "metadata": {
    "colab": {
      "name": "MLProject.ipynb",
      "provenance": [],
      "toc_visible": true,
      "authorship_tag": "ABX9TyNIEUb7pThk2/TsTvkdhWUv",
      "include_colab_link": true
    },
    "kernelspec": {
      "name": "python3",
      "display_name": "Python 3"
    }
  },
  "cells": [
    {
      "cell_type": "markdown",
      "metadata": {
        "id": "view-in-github",
        "colab_type": "text"
      },
      "source": [
        "<a href=\"https://colab.research.google.com/github/KartikDhok/1st/blob/master/MLProject.ipynb\" target=\"_parent\"><img src=\"https://colab.research.google.com/assets/colab-badge.svg\" alt=\"Open In Colab\"/></a>"
      ]
    },
    {
      "cell_type": "code",
      "metadata": {
        "id": "tXtcJ8I9rHZg",
        "colab_type": "code",
        "colab": {}
      },
      "source": [
        "#importing libraries\n",
        "import numpy as np\n",
        "import pandas as pd\n",
        "import seaborn as sns\n",
        "import matplotlib.pyplot as plt\n",
        "%matplotlib inline"
      ],
      "execution_count": null,
      "outputs": []
    },
    {
      "cell_type": "code",
      "metadata": {
        "id": "xgVrhSOmI_Fv",
        "colab_type": "code",
        "colab": {}
      },
      "source": [
        "from google.colab import files\n",
        "uploaded = files.upload()"
      ],
      "execution_count": 1,
      "outputs": []
    },
    {
      "cell_type": "code",
      "metadata": {
        "id": "RN7_s47bLJ5D",
        "colab_type": "code",
        "colab": {}
      },
      "source": [
        "import io\n",
        "dataset = pd.read_csv(r\"Bank_Personal_Loan_Modelling.csv\")"
      ],
      "execution_count": null,
      "outputs": []
    },
    {
      "cell_type": "code",
      "metadata": {
        "id": "svKWL56Ow7uB",
        "colab_type": "code",
        "colab": {}
      },
      "source": [
        "#to display the top 10 row\n",
        "dataset.head(10)"
      ],
      "execution_count": null,
      "outputs": []
    },
    {
      "cell_type": "code",
      "metadata": {
        "id": "Hl8wcxMYxj8R",
        "colab_type": "code",
        "colab": {}
      },
      "source": [
        "#to display the bottom 10 row\n",
        "dataset.tail(10)"
      ],
      "execution_count": null,
      "outputs": []
    },
    {
      "cell_type": "code",
      "metadata": {
        "id": "XoRF5uNOoLbF",
        "colab_type": "code",
        "colab": {}
      },
      "source": [
        "#To display datatype of each column and also display the non-null rows for each column.\n",
        "dataset.info()"
      ],
      "execution_count": null,
      "outputs": []
    },
    {
      "cell_type": "code",
      "metadata": {
        "id": "lq5JW_lSV907",
        "colab_type": "code",
        "colab": {}
      },
      "source": [
        "#To display the summary stat which include count , mean , std,min,max,etc.\n",
        "dataset.describe()"
      ],
      "execution_count": null,
      "outputs": []
    },
    {
      "cell_type": "code",
      "metadata": {
        "id": "xDD1VqJ7Wt7B",
        "colab_type": "code",
        "colab": {}
      },
      "source": [
        "#To display how many null values are present in each column\n",
        "dataset.isnull().sum()"
      ],
      "execution_count": null,
      "outputs": []
    },
    {
      "cell_type": "code",
      "metadata": {
        "id": "BQ7e_T9FqCA2",
        "colab_type": "code",
        "colab": {}
      },
      "source": [
        "experience = dataset['Experience']\n",
        "age=dataset['Age']\n",
        "correlation=experience.corr(age)\n",
        "correlation"
      ],
      "execution_count": null,
      "outputs": []
    },
    {
      "cell_type": "code",
      "metadata": {
        "id": "xCD8u4gx_mvn",
        "colab_type": "code",
        "colab": {}
      },
      "source": [
        "dataset = dataset.drop(['ID' , 'Experience'],axis=1 )\n",
        "dataset.head(10)"
      ],
      "execution_count": null,
      "outputs": []
    },
    {
      "cell_type": "code",
      "metadata": {
        "id": "6jpwEJarV3wt",
        "colab_type": "code",
        "colab": {}
      },
      "source": [
        "# number of unique in each column\n",
        "dataset.nunique() "
      ],
      "execution_count": null,
      "outputs": []
    },
    {
      "cell_type": "code",
      "metadata": {
        "colab_type": "code",
        "id": "4cGflaz53krh",
        "colab": {}
      },
      "source": [
        "# number of unique in each column\n",
        "dataset.nunique() "
      ],
      "execution_count": null,
      "outputs": []
    },
    {
      "cell_type": "code",
      "metadata": {
        "id": "EMNQk1rMZGkQ",
        "colab_type": "code",
        "colab": {}
      },
      "source": [
        "dataset.drop('ZIP Code' , axis = 1)"
      ],
      "execution_count": null,
      "outputs": []
    },
    {
      "cell_type": "code",
      "metadata": {
        "id": "6euKLifIlzEq",
        "colab_type": "code",
        "colab": {}
      },
      "source": [
        "## Number of People with 0 mortgage\n",
        "## There are 3462 peoples with 0 mortgageout of 5000(making it skewed)\n",
        "(dataset.Mortgage == 0).sum()"
      ],
      "execution_count": null,
      "outputs": []
    },
    {
      "cell_type": "code",
      "metadata": {
        "id": "ucvs7I8liDNW",
        "colab_type": "code",
        "colab": {}
      },
      "source": [
        "## Number of people with zero credit card spending per month\n",
        "##  There are 106 people with zero average credit card spending per month\n",
        "(dataset.CCAvg == 0).sum()"
      ],
      "execution_count": null,
      "outputs": []
    },
    {
      "cell_type": "code",
      "metadata": {
        "id": "6Ym_ucHCUmxY",
        "colab_type": "code",
        "colab": {}
      },
      "source": [
        "dataset.Family.value_counts()"
      ],
      "execution_count": null,
      "outputs": []
    },
    {
      "cell_type": "code",
      "metadata": {
        "id": "ChZIZmLObThy",
        "colab_type": "code",
        "colab": {}
      },
      "source": [
        "dataset.Education.value_counts()"
      ],
      "execution_count": null,
      "outputs": []
    },
    {
      "cell_type": "code",
      "metadata": {
        "id": "conv1t2qlZRX",
        "colab_type": "code",
        "colab": {}
      },
      "source": [
        "dataset['Securities Account'].value_counts()"
      ],
      "execution_count": null,
      "outputs": []
    },
    {
      "cell_type": "code",
      "metadata": {
        "id": "qiCiIBCrloFx",
        "colab_type": "code",
        "colab": {}
      },
      "source": [
        "dataset['CreditCard'].value_counts()"
      ],
      "execution_count": null,
      "outputs": []
    },
    {
      "cell_type": "code",
      "metadata": {
        "id": "UbISbXYumbaI",
        "colab_type": "code",
        "colab": {}
      },
      "source": [
        "dataset.Online.value_counts()"
      ],
      "execution_count": null,
      "outputs": []
    },
    {
      "cell_type": "code",
      "metadata": {
        "id": "k_1KUidAsMUW",
        "colab_type": "code",
        "colab": {}
      },
      "source": [
        "## Univariate Analysis\n",
        "## Age seems to have symmetric Distribution\n",
        "sns.distplot(dataset.Age);"
      ],
      "execution_count": null,
      "outputs": []
    },
    {
      "cell_type": "code",
      "metadata": {
        "id": "1iZfLZpkvJRr",
        "colab_type": "code",
        "colab": {}
      },
      "source": [
        "## Income is right skewed Distribution\n",
        "sns.distplot(dataset.Income);"
      ],
      "execution_count": null,
      "outputs": []
    },
    {
      "cell_type": "code",
      "metadata": {
        "id": "NlsfRx1Rvh78",
        "colab_type": "code",
        "colab": {}
      },
      "source": [
        "## Credit Card average is right skewed Distribution\n",
        "sns.distplot(dataset.CCAvg);"
      ],
      "execution_count": null,
      "outputs": []
    },
    {
      "cell_type": "code",
      "metadata": {
        "id": "fVRRQIdfxSMD",
        "colab_type": "code",
        "colab": {}
      },
      "source": [
        "## Mortgage column seems highly skewed\n",
        "sns.distplot(dataset.Mortgage);"
      ],
      "execution_count": null,
      "outputs": []
    },
    {
      "cell_type": "code",
      "metadata": {
        "id": "XgqkZb-5x0nQ",
        "colab_type": "code",
        "colab": {}
      },
      "source": [
        "sns.countplot(dataset.Family);"
      ],
      "execution_count": null,
      "outputs": []
    },
    {
      "cell_type": "code",
      "metadata": {
        "id": "NiiQzcAayCyB",
        "colab_type": "code",
        "colab": {}
      },
      "source": [
        "sns.countplot(dataset.Education);"
      ],
      "execution_count": null,
      "outputs": []
    },
    {
      "cell_type": "code",
      "metadata": {
        "id": "9Rgls6MgdZrs",
        "colab_type": "code",
        "colab": {}
      },
      "source": [
        "sns.FacetGrid(dataset,hue=\"Personal Loan\",size=5).map(plt.scatter,\"Income\",\"Education\").add_legend()\n",
        "plt.show()"
      ],
      "execution_count": null,
      "outputs": []
    },
    {
      "cell_type": "code",
      "metadata": {
        "id": "A8f7jxgoelRi",
        "colab_type": "code",
        "colab": {}
      },
      "source": [
        "## Univariate Analysis\n",
        "## 9.6 % all the applicats get approved for personal loan\n",
        "tempDF =pd.DataFrame(dataset[\"Personal Loan\"].value_counts()).reset_index()\n",
        "tempDF.column = [\"Lables\",\"Personal Loan\"]\n",
        "figl, axl = plt.subplots(figsize=(10,8))\n",
        "explode = (0, 0.15)\n",
        "axl.pie(tempDF[\"Personal Loan\"], explode=explode, autopct='%1.1f%%', shadow=True, startangle=70)\n",
        "axl.axis('equal') # Equal aspect ratio ensures that pie is drawn as a circle.\n",
        "plt.title(\"Personal Loan Percentage\")\n",
        "plt.show()"
      ],
      "execution_count": null,
      "outputs": []
    },
    {
      "cell_type": "code",
      "metadata": {
        "id": "ON7JynpM3YgD",
        "colab_type": "code",
        "colab": {}
      },
      "source": [
        "## It seems the costomers whose has more income is granted loan across each education level\n",
        "sns.boxplot(x='Education' ,y= 'Income' ,hue='Personal Loan' ,data=dataset);"
      ],
      "execution_count": null,
      "outputs": []
    },
    {
      "cell_type": "code",
      "metadata": {
        "id": "oKFMZZaYIV4E",
        "colab_type": "code",
        "colab": {}
      },
      "source": [
        "## Most of the people having Securities Account and don't have personal loan\n",
        "sns.countplot(x=\"Securities Account\", data=dataset,hue=\"Personal Loan\");"
      ],
      "execution_count": null,
      "outputs": []
    },
    {
      "cell_type": "code",
      "metadata": {
        "id": "SZFhnAaRLZhn",
        "colab_type": "code",
        "colab": {}
      },
      "source": [
        "## after dropping Experience column earlier doesn't seem to be significant correlation between other variables except\n",
        "## credit card average and income\n",
        "fig,ax = plt.subplots(figsize=(15,10))\n",
        "sns.heatmap(dataset.corr(),cmap='plasma' , annot=True) ;"
      ],
      "execution_count": null,
      "outputs": []
    },
    {
      "cell_type": "code",
      "metadata": {
        "id": "LZzDCymzMMeC",
        "colab_type": "code",
        "colab": {}
      },
      "source": [
        "sns.pairplot(dataset)"
      ],
      "execution_count": null,
      "outputs": []
    },
    {
      "cell_type": "code",
      "metadata": {
        "id": "cw4HGc1mqcB8",
        "colab_type": "code",
        "colab": {}
      },
      "source": [
        "data_X = dataset.loc[:,dataset.columns != \"Personal Loan\"]\n",
        "dara_Y = dataset[[\"Personal Loan\"]]"
      ],
      "execution_count": null,
      "outputs": []
    },
    {
      "cell_type": "code",
      "metadata": {
        "id": "hIIQ0Yaf37BH",
        "colab_type": "code",
        "colab": {}
      },
      "source": [
        "from sklearn.preprocessing import PowerTransformer\n",
        "\n",
        "pt = PowerTransformer(method=\"yeo-johnson\" , standardize=False)\n",
        "pt.fit(dataset[\"Income\"].values.reshape(-1, 1))\n",
        "temp = pt.transform(dataset[\"Income\"].values.reshape(-1, 1))\n",
        "sns.distplot(temp);"
      ],
      "execution_count": null,
      "outputs": []
    },
    {
      "cell_type": "code",
      "metadata": {
        "id": "mitXWhHG6R5n",
        "colab_type": "code",
        "colab": {}
      },
      "source": [
        "pt = PowerTransformer(method=\"yeo-johnson\", standardize=False)\n",
        "pt.fit(dataset[\"CCAvg\"].values.reshape(-1, 1))\n",
        "temp = pt.transform(dataset[\"CCAvg\"].values.reshape(-1, 1))\n",
        "sns.distplot(temp);"
      ],
      "execution_count": null,
      "outputs": []
    },
    {
      "cell_type": "code",
      "metadata": {
        "id": "mAUTIc6DLnKc",
        "colab_type": "code",
        "colab": {}
      },
      "source": [
        "dataset[\"Mortgage_Int\"] = pd.cut(dataset[\"Mortgage\"], bins=[0, 100, 200, 300, 400, 500, 600, 700], labels=[0, 1, 2, 3, 4, 5, 6], include_lowest=True)\n",
        "dataset.drop(\"Mortgage\" , axis=1, inplace=True)"
      ],
      "execution_count": null,
      "outputs": []
    },
    {
      "cell_type": "code",
      "metadata": {
        "id": "0Plknj9BMCII",
        "colab_type": "code",
        "colab": {}
      },
      "source": [
        "dataset.head()"
      ],
      "execution_count": null,
      "outputs": []
    },
    {
      "cell_type": "code",
      "metadata": {
        "id": "yakA9MsB_fBZ",
        "colab_type": "code",
        "colab": {}
      },
      "source": [
        "X = dataset.drop(['Personal Loan'], axis=1)\n",
        "y = dataset['Personal Loan'].values\n",
        "\n",
        "X.shape, y.shape"
      ],
      "execution_count": null,
      "outputs": []
    },
    {
      "cell_type": "code",
      "metadata": {
        "id": "qcnNH7wbJbU9",
        "colab_type": "code",
        "colab": {}
      },
      "source": [
        "from sklearn.model_selection import train_test_split\n",
        "\n",
        "X_train, X_test, y_train, y_test = train_test_split(X, y, test_size=0.3, stratify= y,random_state=17)\n",
        "X_train.shape, X_test.shape, y_train.shape, y_test.shape"
      ],
      "execution_count": null,
      "outputs": []
    },
    {
      "cell_type": "code",
      "metadata": {
        "id": "_IO7ItiJJrw9",
        "colab_type": "code",
        "colab": {}
      },
      "source": [
        "class_names = ['wont take loan', 'take loan']"
      ],
      "execution_count": null,
      "outputs": []
    },
    {
      "cell_type": "code",
      "metadata": {
        "id": "GJG07WGvE9M5",
        "colab_type": "code",
        "colab": {}
      },
      "source": [
        "#importing required libraries\n",
        "from sklearn.metrics import confusion_matrix , recall_score , precision_score , f1_score , roc_auc_score , accuracy_score\n",
        "from sklearn.linear_model import LogisticRegression\n",
        "from sklearn.metrics import classification_report"
      ],
      "execution_count": null,
      "outputs": []
    },
    {
      "cell_type": "code",
      "metadata": {
        "id": "Nx-LPS07YSsO",
        "colab_type": "code",
        "colab": {}
      },
      "source": [
        "# fit Model X_train and Y_train\n",
        "Model = LogisticRegression(solver='liblinear')\n",
        "Model.fit(X_train,y_train)"
      ],
      "execution_count": null,
      "outputs": []
    },
    {
      "cell_type": "code",
      "metadata": {
        "id": "4VaX-WiGZNTr",
        "colab_type": "code",
        "colab": {}
      },
      "source": [
        "log_reg = LogisticRegression(C=1.0, max_iter=200)\n",
        "log_reg.fit(X_train, y_train)"
      ],
      "execution_count": null,
      "outputs": []
    },
    {
      "cell_type": "code",
      "metadata": {
        "id": "x830RW_ae0WU",
        "colab_type": "code",
        "colab": {}
      },
      "source": [
        "# Accuracy score of Logistic Regression Model.\n",
        "pred_X_test = Model.predict(X_test)\n",
        "pred_X_train = Model.predict(X_train)\n",
        "acc_X_train = accuracy_score(y_train,pred_X_train)\n",
        "acc_X_test = accuracy_score(y_test,pred_X_test)\n",
        "print(\"accuracy on X_train : {: .8f}\" .format(acc_X_train))\n",
        "print(\"accuracy on X_test : {: .8f}\" .format(acc_X_test))"
      ],
      "execution_count": null,
      "outputs": []
    },
    {
      "cell_type": "markdown",
      "metadata": {
        "id": "FgxCIeZw5kXR",
        "colab_type": "text"
      },
      "source": [
        "**Business understanding of model**"
      ]
    },
    {
      "cell_type": "markdown",
      "metadata": {
        "id": "I4KprimeiDHl",
        "colab_type": "text"
      },
      "source": [
        "In the first step of this project we imported various libraries and our data. Than we found out various things about our data\n",
        "\n",
        "1)We have to make the model to predict whether a person will take personal loan or not\n",
        "\n",
        "2)We found that age and experience are highly correlated so we droped the experience column.\n",
        "\n",
        "3)ID and ZIP code were not contributing factors for a Lerson to take loan so we dropped them\n",
        "\n",
        "4)The Income and CCAvg column were left skewed so we applied Power transformation to them to normalize them.\n",
        "\n",
        "5)The mortgage column was also skewed but since it was discrete so rather than power transformation, we use binning technique\n",
        "After this we used several models to make predictions."
      ]
    }
  ]
}